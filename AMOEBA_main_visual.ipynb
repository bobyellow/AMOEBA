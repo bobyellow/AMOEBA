{
 "cells": [
  {
   "cell_type": "code",
   "execution_count": null,
   "id": "a0c2476a",
   "metadata": {},
   "outputs": [],
   "source": [
    "import core.shapefile\n",
    "import numpy as np\n",
    "import pandas as pd\n",
    "import os\n",
    "from scipy import stats\n",
    "from core.getNeighbors import getNeighborsAreaContiguity\n",
    "#from core.AMOEBA import execAMOEBA #original AMOEBA\n",
    "#an improved faster version of AMOEBA using head-tail break for seeds selection:\n",
    "from core.AMOEBA_headtail_fast import execAMOEBA_headtail_fast\n",
    "import matplotlib.pyplot as plt\n",
    "from matplotlib.patches import Polygon\n",
    "from matplotlib.collections import PatchCollection\n",
    "import matplotlib.patches as mpatches"
   ]
  },
  {
   "cell_type": "code",
   "execution_count": null,
   "id": "dce5f9df",
   "metadata": {},
   "outputs": [],
   "source": [
    "# Load shapefile data\n",
    "SHAPEFILE_PATH = \"input/Chicago_census_tract.shp\"\n",
    "##sf = core.shapefile.Reader(\"input/US_County_Lower48.shp\")\n",
    "sf = core.shapefile.Reader(SHAPEFILE_PATH)\n",
    "shapes = sf.shapes()"
   ]
  },
  {
   "cell_type": "code",
   "execution_count": null,
   "id": "eb43e9a0",
   "metadata": {},
   "outputs": [],
   "source": [
    "# Prepare AREAS input for Queen's and Rook's contiguity\n",
    "AREAS = [[shape.points] for shape in shapes]"
   ]
  },
  {
   "cell_type": "code",
   "execution_count": null,
   "id": "b5d8b942",
   "metadata": {},
   "outputs": [],
   "source": [
    "# Calculate neighbors using Queen's contiguity\n",
    "Wqueen, _ = getNeighborsAreaContiguity(AREAS)\n",
    "neighbors = Wqueen"
   ]
  },
  {
   "cell_type": "markdown",
   "id": "3551a1ef",
   "metadata": {},
   "source": [
    "Load and extract raw data from CSV\n",
    "Assumes whitespace-separated file with no header: columns O (ID) and F (value)"
   ]
  },
  {
   "cell_type": "code",
   "execution_count": null,
   "id": "a83bf8a2",
   "metadata": {},
   "outputs": [],
   "source": [
    "##df = pd.read_csv(\n",
    "##    \"input/County_48_Obesity.csv\",\n",
    "##    sep=r\"\\s+\", header=None, names=[\"O\", \"F\"]\n",
    "##)\n",
    "df = pd.read_csv(\n",
    "    \"input/Chicago_CT_GV.csv\",\n",
    "    sep=r\"\\s+\", header=None, names=[\"O\", \"F\"]\n",
    ")"
   ]
  },
  {
   "cell_type": "code",
   "execution_count": null,
   "id": "18913c37",
   "metadata": {},
   "outputs": [],
   "source": [
    "# Build univariate value dictionary for AMOEBA\n",
    "y = dict(zip(df[\"O\"], df[\"F\"]))"
   ]
  },
  {
   "cell_type": "code",
   "execution_count": null,
   "id": "5dc37885",
   "metadata": {},
   "outputs": [],
   "source": [
    "# Run AMOEBA with desired p-value threshold\n",
    "significance_level = 0.01\n",
    "#outputStr = execAMOEBA(y, neighbors, significance=significance_level)\n",
    "outputStr = execAMOEBA_headtail_fast(y, neighbors, significance=significance_level,mc_reps=500, headtail_pct=0.05)"
   ]
  },
  {
   "cell_type": "code",
   "execution_count": null,
   "id": "f1bb382f",
   "metadata": {},
   "outputs": [],
   "source": [
    "# Save output to file\n",
    "#output_path = \"result/AMOEBA_County_Obesity_001sig_headtail_order_01.txt\"\n",
    "output_path = \"result/AMOEBA_Chicago_CT_GV_sig001_headtail005.txt\""
   ]
  },
  {
   "cell_type": "code",
   "execution_count": null,
   "id": "46171984",
   "metadata": {},
   "outputs": [],
   "source": [
    "# Ensure directory exists\n",
    "os.makedirs(os.path.dirname(output_path), exist_ok=True)\n",
    "with open(output_path, 'w') as f:\n",
    "    f.write(outputStr)"
   ]
  },
  {
   "cell_type": "code",
   "execution_count": null,
   "id": "01deb245",
   "metadata": {
    "lines_to_next_cell": 2
   },
   "outputs": [],
   "source": [
    "print(f\"Processing complete. Results written to {output_path}\")"
   ]
  },
  {
   "cell_type": "code",
   "execution_count": null,
   "id": "ea002510",
   "metadata": {},
   "outputs": [],
   "source": [
    "# --------------Visualize results in map---------------------------------------\n",
    "# 0) CONFIG — adjust as needed\n",
    "# -----------------------------------------------------------------------------\n",
    "#SHAPEFILE_PATH = \"input/data_prep_tract_final.shp\"\n",
    "RESULT_PATH    = output_path\n",
    "OUTPUT_MAP     = output_path.replace('txt', 'jpg')\n",
    "MIN_PCT        = 0.01   # 1% threshold for grouping “small” clusters of which unit number is less than 1% of total"
   ]
  },
  {
   "cell_type": "code",
   "execution_count": null,
   "id": "d96c4522",
   "metadata": {},
   "outputs": [],
   "source": [
    "# -----------------------------------------------------------------------------\n",
    "# 1) LOAD SHAPEFILE\n",
    "# -----------------------------------------------------------------------------\n",
    "sf      = core.shapefile.Reader(SHAPEFILE_PATH)\n",
    "shapes  = sf.shapes()\n",
    "n_units = len(shapes)"
   ]
  },
  {
   "cell_type": "code",
   "execution_count": null,
   "id": "2e62aa39",
   "metadata": {},
   "outputs": [],
   "source": [
    "# -----------------------------------------------------------------------------\n",
    "# 2) LOAD RESULTS\n",
    "# -----------------------------------------------------------------------------\n",
    "res = pd.read_csv(RESULT_PATH, sep=\",\")\n",
    "res.columns = [c.strip() for c in res.columns]\n",
    "if \"Area\" not in res or \"AMOEBA\" not in res:\n",
    "    raise KeyError(\"Result file must contain 'Area' and 'AMOEBA' columns\")\n",
    "res[\"Area\"]   = res[\"Area\"].astype(int)\n",
    "res[\"AMOEBA\"] = res[\"AMOEBA\"].astype(int)\n",
    "results_dict = dict(zip(res[\"Area\"], res[\"AMOEBA\"]))"
   ]
  },
  {
   "cell_type": "code",
   "execution_count": null,
   "id": "3a3337a0",
   "metadata": {},
   "outputs": [],
   "source": [
    "# -----------------------------------------------------------------------------\n",
    "# 3) BUILD PATCHES & RAW CODES\n",
    "# -----------------------------------------------------------------------------\n",
    "patches   = []\n",
    "raw_codes = []"
   ]
  },
  {
   "cell_type": "code",
   "execution_count": null,
   "id": "8973e282",
   "metadata": {},
   "outputs": [],
   "source": [
    "for idx, shape in enumerate(shapes, start=1):\n",
    "    code = results_dict.get(idx, 0)\n",
    "    pts  = shape.points\n",
    "    parts = list(shape.parts) + [len(pts)]\n",
    "    for start, end in zip(shape.parts, parts[1:]):\n",
    "        patches.append(Polygon(pts[start:end], closed=True))\n",
    "        raw_codes.append(code)"
   ]
  },
  {
   "cell_type": "code",
   "execution_count": null,
   "id": "fb31b3c6",
   "metadata": {},
   "outputs": [],
   "source": [
    "# -----------------------------------------------------------------------------\n",
    "# 4) CLASSIFY INTO NS / small / others\n",
    "# -----------------------------------------------------------------------------\n",
    "from collections import Counter\n",
    "counter     = Counter(raw_codes)\n",
    "min_size    = max(1, int(n_units * MIN_PCT))\n",
    "small_codes = {c for c, cnt in counter.items() if c != 0 and cnt < min_size}"
   ]
  },
  {
   "cell_type": "code",
   "execution_count": null,
   "id": "e96d4442",
   "metadata": {},
   "outputs": [],
   "source": [
    "# build display codes\n",
    "disp_codes = []\n",
    "for c in raw_codes:\n",
    "    if c == 0:\n",
    "        disp_codes.append(\"NS\")\n",
    "    elif c in small_codes:\n",
    "        disp_codes.append(\"small\")\n",
    "    else:\n",
    "        disp_codes.append(str(c))"
   ]
  },
  {
   "cell_type": "code",
   "execution_count": null,
   "id": "aead7ef3",
   "metadata": {},
   "outputs": [],
   "source": [
    "disp_counts = Counter(disp_codes)"
   ]
  },
  {
   "cell_type": "code",
   "execution_count": null,
   "id": "7957d179",
   "metadata": {},
   "outputs": [],
   "source": [
    "# -----------------------------------------------------------------------------\n",
    "# 5) ASSIGN COLORS\n",
    "# -----------------------------------------------------------------------------\n",
    "# greys for NS & small\n",
    "color_map = {\n",
    "    \"NS\":    \"#4d4d4d\",\n",
    "    \"small\": \"#cccccc\",\n",
    "}"
   ]
  },
  {
   "cell_type": "code",
   "execution_count": null,
   "id": "0b3cd3fd",
   "metadata": {},
   "outputs": [],
   "source": [
    "# separate negative and positive codes\n",
    "others = sorted([d for d in disp_counts if d not in (\"NS\",\"small\")], key=int)\n",
    "neg_codes = [c for c in others if int(c) < 0]\n",
    "pos_codes = [c for c in others if int(c) > 0]"
   ]
  },
  {
   "cell_type": "code",
   "execution_count": null,
   "id": "2f9c5d73",
   "metadata": {},
   "outputs": [],
   "source": [
    "# cold blues for negatives (darkest for largest |c|)\n",
    "cold = plt.get_cmap(\"Blues\")\n",
    "n_neg = len(neg_codes)\n",
    "for i, code in enumerate(sorted(neg_codes, key=lambda x: int(x))):\n",
    "    # reversed so that more negative = darker\n",
    "    color_map[code] = cold(1 - i/(n_neg-1 if n_neg>1 else 1)*0.7)"
   ]
  },
  {
   "cell_type": "code",
   "execution_count": null,
   "id": "a8a2b3f8",
   "metadata": {},
   "outputs": [],
   "source": [
    "# warm reds for positives (light → dark)\n",
    "warm = plt.get_cmap(\"Reds\")\n",
    "n_pos = len(pos_codes)\n",
    "for i, code in enumerate(sorted(pos_codes, key=lambda x: int(x))):\n",
    "    color_map[code] = warm(0.3 + i/(n_pos-1 if n_pos>1 else 1)*0.7)"
   ]
  },
  {
   "cell_type": "code",
   "execution_count": null,
   "id": "a733e839",
   "metadata": {},
   "outputs": [],
   "source": [
    "# now build facecolor list\n",
    "facecolors = [color_map[c] for c in disp_codes]"
   ]
  },
  {
   "cell_type": "code",
   "execution_count": null,
   "id": "13634196",
   "metadata": {},
   "outputs": [],
   "source": [
    "# -----------------------------------------------------------------------------\n",
    "# 6) PLOT\n",
    "# -----------------------------------------------------------------------------\n",
    "fig, ax = plt.subplots(figsize=(12,8))\n",
    "pcol = PatchCollection(\n",
    "    patches,\n",
    "    facecolor=facecolors,\n",
    "    edgecolor=\"black\",\n",
    "    linewidths=0.2,\n",
    ")\n",
    "ax.add_collection(pcol)\n",
    "ax.set_aspect(\"equal\", \"box\")\n",
    "ax.autoscale()\n",
    "ax.set_axis_off()"
   ]
  },
  {
   "cell_type": "code",
   "execution_count": null,
   "id": "b98471e8",
   "metadata": {},
   "outputs": [],
   "source": [
    "# -----------------------------------------------------------------------------\n",
    "# 7) CUSTOM LEGEND (left of map)\n",
    "# -----------------------------------------------------------------------------\n",
    "handles = []"
   ]
  },
  {
   "cell_type": "code",
   "execution_count": null,
   "id": "5224f016",
   "metadata": {},
   "outputs": [],
   "source": [
    "# then positive clusters\n",
    "for code in pos_codes:\n",
    "    handles.append(mpatches.Patch(color=color_map[code],\n",
    "                                  label=f\"{code} ({disp_counts[code]} units)\"))\n",
    "    # then negative clusters\n",
    "for code in neg_codes:\n",
    "    handles.append(mpatches.Patch(color=color_map[code],\n",
    "                                  label=f\"{code} ({disp_counts[code]} units)\"))\n",
    "# NS first\n",
    "handles.append(mpatches.Patch(color=color_map[\"NS\"],\n",
    "                              label=f\"NS ({disp_counts['NS']} units)\"))\n",
    "# small clusters next\n",
    "handles.append(mpatches.Patch(color=color_map[\"small\"],\n",
    "                              label=f\"small clusters (<{int(100*MIN_PCT)}%) ({disp_counts['small']} units)\"))"
   ]
  },
  {
   "cell_type": "code",
   "execution_count": null,
   "id": "2161968d",
   "metadata": {},
   "outputs": [],
   "source": [
    "leg = ax.legend(\n",
    "    handles=handles,\n",
    "    title=\"AMOEBA Cluster\",\n",
    "    loc=\"center left\",\n",
    "    bbox_to_anchor=(-0.3, 0.3),\n",
    "    fontsize=\"medium\",\n",
    "    title_fontsize=\"large\",\n",
    "    frameon=False  # no border\n",
    ")"
   ]
  },
  {
   "cell_type": "code",
   "execution_count": null,
   "id": "fc5229c0",
   "metadata": {},
   "outputs": [],
   "source": [
    "# -----------------------------------------------------------------------------\n",
    "# 8) SAVE JPEG\n",
    "# -----------------------------------------------------------------------------\n",
    "os.makedirs(os.path.dirname(OUTPUT_MAP), exist_ok=True)\n",
    "plt.tight_layout()\n",
    "plt.savefig(OUTPUT_MAP, dpi=300, format=\"jpg\")\n",
    "print(f\"Map saved to {OUTPUT_MAP}\")"
   ]
  }
 ],
 "metadata": {
  "jupytext": {
   "cell_metadata_filter": "-all",
   "main_language": "python",
   "notebook_metadata_filter": "-all"
  }
 },
 "nbformat": 4,
 "nbformat_minor": 5
}
